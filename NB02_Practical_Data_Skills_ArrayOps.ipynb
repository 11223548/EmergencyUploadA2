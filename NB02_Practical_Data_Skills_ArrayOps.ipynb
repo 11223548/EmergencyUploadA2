{
  "nbformat": 4,
  "nbformat_minor": 0,
  "metadata": {
    "kernelspec": {
      "display_name": "Python 3",
      "language": "python",
      "name": "python3"
    },
    "language_info": {
      "codemirror_mode": {
        "name": "ipython",
        "version": 3
      },
      "file_extension": ".py",
      "mimetype": "text/x-python",
      "name": "python",
      "nbconvert_exporter": "python",
      "pygments_lexer": "ipython3",
      "version": "3.5.4"
    },
    "toc": {
      "base_numbering": 1,
      "nav_menu": {},
      "number_sections": false,
      "sideBar": true,
      "skip_h1_title": false,
      "title_cell": "Table of Contents",
      "title_sidebar": "Contents",
      "toc_cell": false,
      "toc_position": {},
      "toc_section_display": true,
      "toc_window_display": true
    },
    "colab": {
      "name": "NB02_Practical_Data_Skills_ArrayOps.ipynb",
      "version": "0.3.2",
      "provenance": [],
      "toc_visible": true,
      "include_colab_link": true
    }
  },
  "cells": [
    {
      "cell_type": "markdown",
      "metadata": {
        "id": "view-in-github",
        "colab_type": "text"
      },
      "source": [
        "<a href=\"https://colab.research.google.com/github/junjy007/UTS_ML2019_Main/blob/master/NB02_Practical_Data_Skills_ArrayOps.ipynb\" target=\"_parent\"><img src=\"https://colab.research.google.com/assets/colab-badge.svg\" alt=\"Open In Colab\"/></a>"
      ]
    },
    {
      "cell_type": "markdown",
      "metadata": {
        "id": "zBEuhdXw_FJE",
        "colab_type": "text"
      },
      "source": [
        "# 5 Practical Skill 1 -- Array Operations"
      ]
    },
    {
      "cell_type": "markdown",
      "metadata": {
        "id": "affdBj75_FJG",
        "colab_type": "text"
      },
      "source": [
        "## 5.1 Brief of Data Wrangling Tools with Discussion on When to Use Which"
      ]
    },
    {
      "cell_type": "markdown",
      "metadata": {
        "id": "pHzY4O97_FJH",
        "colab_type": "text"
      },
      "source": [
        "### 5.1.1 Small arrays and tables"
      ]
    },
    {
      "cell_type": "markdown",
      "metadata": {
        "id": "DDdxSevE_FJI",
        "colab_type": "text"
      },
      "source": [
        "Arrays are a very generic representation of the data. When an array is 2D,  it is often called a table. Usually, each row of a table represent one data sample, and each column of the table corresponds to one attribute of the data. Table data is perhaps the most the common simplest format of data. if all the values in the table are numerical,  and especially when we want to perform computations on the table a `numpy` array (see next subsection for details) is a convenient choice.\n",
        "\n",
        "On the other hand, a pandas dataframe should be considered if\n",
        "- the types of the values in the table are different,  or\n",
        "- we needed to deal with issues such as missing values,  or\n",
        "- It is convenient in the analysis to refer to the meaning of the attributes,  such as instead of being called “attribute-2”,  we want to call the attribute “petal_length”.\n",
        "\n",
        "An example of table data is the basic machine learning dataset \"Iris\".\n",
        "\n",
        "Note in the following example, `seaborn` is an accompany library facilitating quick prototyping and visualisation / inspection of `DataFrames` of the `pandas` library."
      ]
    },
    {
      "cell_type": "code",
      "metadata": {
        "id": "YC_dI_9Q_FJI",
        "colab_type": "code",
        "colab": {}
      },
      "source": [
        "import seaborn as sns\n",
        "\n",
        "iris = sns.load_dataset('iris')\n",
        "iris.head()"
      ],
      "execution_count": 0,
      "outputs": []
    },
    {
      "cell_type": "markdown",
      "metadata": {
        "id": "ZATXwA1t_FJN",
        "colab_type": "text"
      },
      "source": [
        "Alternatively, if we manage the data in numpy arrays"
      ]
    },
    {
      "cell_type": "code",
      "metadata": {
        "id": "ZkCqqxXt_FJN",
        "colab_type": "code",
        "colab": {}
      },
      "source": [
        "from sklearn.datasets import load_iris\n",
        "\n",
        "iris_np = load_iris()\n",
        "print(iris_np.data.shape)\n",
        "print(iris_np.data[:5])\n",
        "print(iris_np.target[:5])"
      ],
      "execution_count": 0,
      "outputs": []
    },
    {
      "cell_type": "markdown",
      "metadata": {
        "id": "9VnrTU1p_FJQ",
        "colab_type": "text"
      },
      "source": [
        "### 5.1.2 Homogeneous Arrays"
      ]
    },
    {
      "cell_type": "markdown",
      "metadata": {
        "id": "GDL7VIWP_FJQ",
        "colab_type": "text"
      },
      "source": [
        "When the data contains large amount of attributes, those attributes are organised in a spatially regular and meaningful way, then we use typical numerical multidimensional arrays. "
      ]
    },
    {
      "cell_type": "markdown",
      "metadata": {
        "id": "GE8yasLY_FJR",
        "colab_type": "text"
      },
      "source": [
        "The numerical computaiton library `numpy` provides convenient interfaces to efficient computation tools of manipulating arrays. Check the [online document][numpy-doc] for more details.\n",
        "\n",
        "[numpy-doc]:https://www.numpy.org/"
      ]
    },
    {
      "cell_type": "markdown",
      "metadata": {
        "id": "E1_1uB_Y_FJS",
        "colab_type": "text"
      },
      "source": [
        "> Numpy has a sister library, `scipy`, which contains higher level (overlapping to an extent) functions. E.g. `numpy` performs linear algebric operators, e.g. compute $C$ in $A \\times B \\rightarrow C$, where $A$  and $B$ are matrices or vectors, while `scipy` can do the inverse computation, i.e. finding out $A$, where $A \\times B \\rightarrow C$)\n"
      ]
    },
    {
      "cell_type": "markdown",
      "metadata": {
        "id": "9bV4rvsc_FJS",
        "colab_type": "text"
      },
      "source": [
        "#### Example of image pixels"
      ]
    },
    {
      "cell_type": "code",
      "metadata": {
        "id": "jqrkajze_FJT",
        "colab_type": "code",
        "colab": {}
      },
      "source": [
        "import numpy as np\n",
        "from sklearn.datasets import load_sample_images\n",
        "ims = load_sample_images()\n",
        "print(ims.images[0].shape, ims.images[1].shape)\n",
        "images = np.stack(ims.images)\n",
        "print(images.shape)"
      ],
      "execution_count": 0,
      "outputs": []
    },
    {
      "cell_type": "code",
      "metadata": {
        "id": "mZMYqfqL_FJV",
        "colab_type": "code",
        "colab": {}
      },
      "source": [
        "%matplotlib inline\n",
        "import matplotlib.pyplot as plt\n",
        "plt.imshow(images[0])\n",
        "plt.show()\n",
        "plt.imshow(images[1])\n",
        "plt.show()"
      ],
      "execution_count": 0,
      "outputs": []
    },
    {
      "cell_type": "markdown",
      "metadata": {
        "id": "XbHxi-_6_FJX",
        "colab_type": "text"
      },
      "source": [
        "Let's apply a partial blue-filter and a total red filter to the two images."
      ]
    },
    {
      "cell_type": "code",
      "metadata": {
        "id": "lX4MswSJ_FJX",
        "colab_type": "code",
        "colab": {}
      },
      "source": [
        "images[0][100:150, 100:500, 0:2] = 0\n",
        "plt.imshow(images[0])\n",
        "plt.show()\n",
        "images[1][:, :, 1:] = 0\n",
        "plt.imshow(images[1])\n",
        "plt.show()"
      ],
      "execution_count": 0,
      "outputs": []
    },
    {
      "cell_type": "markdown",
      "metadata": {
        "id": "ZWdzADaz_FJZ",
        "colab_type": "text"
      },
      "source": [
        "## 5.2 Advanced Array Operations"
      ]
    },
    {
      "cell_type": "markdown",
      "metadata": {
        "id": "EYH_LDPZ_FJa",
        "colab_type": "text"
      },
      "source": [
        "### 5.2.1 Indexing"
      ]
    },
    {
      "cell_type": "markdown",
      "metadata": {
        "id": "4-dlis_B_FJa",
        "colab_type": "text"
      },
      "source": [
        "The following code is a simple visualiser."
      ]
    },
    {
      "cell_type": "code",
      "metadata": {
        "id": "Xfl9UqyA_FJc",
        "colab_type": "code",
        "colab": {}
      },
      "source": [
        "def show_array(a):\n",
        "    if a.ndim == 1: \n",
        "        a = a[:, np.newaxis]\n",
        "    fig, axes = plt.subplots(1)\n",
        "    fig.set_size_inches(a.shape[1]/2, a.shape[0]/2)\n",
        "    axes.imshow(a)\n",
        "    axes.set_xticks(np.arange(a.shape[1]))\n",
        "    axes.set_yticks(np.arange(a.shape[0]))"
      ],
      "execution_count": 0,
      "outputs": []
    },
    {
      "cell_type": "markdown",
      "metadata": {
        "id": "ulHg1MLJ_FJd",
        "colab_type": "text"
      },
      "source": [
        "Study the following example, and perform the following exercise."
      ]
    },
    {
      "cell_type": "code",
      "metadata": {
        "id": "wwcuW_tR_FJe",
        "colab_type": "code",
        "colab": {}
      },
      "source": [
        "a = np.zeros((10, 1))\n",
        "a[5:8]=1\n",
        "show_array(a)\n",
        "\n",
        "a = np.zeros((10, 1))\n",
        "a[3:8:2]=1\n",
        "show_array(a)"
      ],
      "execution_count": 0,
      "outputs": []
    },
    {
      "cell_type": "markdown",
      "metadata": {
        "id": "8IWyK8Pj_FJg",
        "colab_type": "text"
      },
      "source": [
        "__EXERCISE__"
      ]
    },
    {
      "cell_type": "code",
      "metadata": {
        "id": "eIzkp1e0_FJg",
        "colab_type": "code",
        "colab": {}
      },
      "source": [
        "# Replace ... to produce (1) and (2) (in two experiments)\n",
        "a = np.zeros((10, 1))\n",
        "a[...]=1\n",
        "show_array(a)"
      ],
      "execution_count": 0,
      "outputs": []
    },
    {
      "cell_type": "code",
      "metadata": {
        "id": "Vij9kHYW_FJi",
        "colab_type": "code",
        "colab": {}
      },
      "source": [
        "# Replace ... to produce (3) and (4) (in two experiments)\n",
        "a = np.zeros((10, 10))\n",
        "a[1::3, ::2]=1\n",
        "show_array(a)"
      ],
      "execution_count": 0,
      "outputs": []
    },
    {
      "cell_type": "code",
      "metadata": {
        "id": "WP9LSssv_FJk",
        "colab_type": "code",
        "colab": {}
      },
      "source": [
        "# Consider the `im` array\n",
        "ims = load_sample_images()\n",
        "im = ims.images[0][:,:, 0]/255\n",
        "plt.imshow(im, cmap=\"gray\")\n",
        "plt.show()\n",
        "\n",
        "# Explain what you see in im_h\n",
        "im_h = im[:, 1:] - im[:, :-1]\n",
        "plt.imshow(im_h, cmap=\"gray\", vmax=1.0, vmin=-1.0)\n",
        "plt.show()"
      ],
      "execution_count": 0,
      "outputs": []
    },
    {
      "cell_type": "markdown",
      "metadata": {
        "id": "xwiXqcKD_FJl",
        "colab_type": "text"
      },
      "source": [
        "### 5.2.2 Reducing and Broadcasting"
      ]
    },
    {
      "cell_type": "markdown",
      "metadata": {
        "id": "HoQx-6UA_FJm",
        "colab_type": "text"
      },
      "source": [
        "Reducing refers to some operation that summarise the values along a dimension, and store the result in a new array.  The new array will have one less dimension than the original one has. The summarisation operation include some often encountered ones such as taking the mean value or finding the median value or taking the minimum or maximum."
      ]
    },
    {
      "cell_type": "code",
      "metadata": {
        "id": "ST-5jM87_FJn",
        "colab_type": "code",
        "colab": {}
      },
      "source": [
        "# E.g. get the mean of each attribute of Iris Data\n",
        "from sklearn.datasets import load_iris\n",
        "\n",
        "iris_np = load_iris()\n",
        "iris_attr_mean = iris_np.data.mean(axis=0)\n",
        "print(iris_attr_mean)"
      ],
      "execution_count": 0,
      "outputs": []
    },
    {
      "cell_type": "markdown",
      "metadata": {
        "id": "p_wklyo9_FJo",
        "colab_type": "text"
      },
      "source": [
        "__EXERCISE__\n",
        "\n",
        "Compute the max and min value of each attribute of the Iris dataset."
      ]
    },
    {
      "cell_type": "markdown",
      "metadata": {
        "id": "V1SzKgMZ_FJp",
        "colab_type": "text"
      },
      "source": [
        "Broadcasting is an easy way to specify element-wise computation between two arrays.  In a sense, the correspondence between a large array and a small array in broadcasting mirrors the relationship between the two arrays in reducing. Please check the document or a [tutorial][bd-tut] for more detials.\n",
        "\n",
        "[bd-tut]:https://www.tutorialspoint.com/numpy/numpy_broadcasting.htm"
      ]
    },
    {
      "cell_type": "code",
      "metadata": {
        "id": "I85e6Vy8_FJp",
        "colab_type": "code",
        "colab": {}
      },
      "source": [
        "# E.g. to take off the minimum value of each attribute from each data sample in Iris, so in the processed data \n",
        "# the minimum value of each attribute is 0.\n",
        "\n",
        "iris_np_zero_min = iris_np.data - iris_np.data.min(axis=0)"
      ],
      "execution_count": 0,
      "outputs": []
    },
    {
      "cell_type": "code",
      "metadata": {
        "id": "7zJ-tGuQ_FJr",
        "colab_type": "code",
        "colab": {}
      },
      "source": [
        "plt.boxplot(iris_np_zero_min)\n",
        "plt.xlabel(\"Attributes\")\n",
        "plt.show() # Note the absolute minimum value of each attribute."
      ],
      "execution_count": 0,
      "outputs": []
    },
    {
      "cell_type": "markdown",
      "metadata": {
        "id": "7cDc25c7_FJt",
        "colab_type": "text"
      },
      "source": [
        "__EXERCISE__\n",
        "\n",
        "Normalise the iris data so that each attribute is between $[0, 1]$.\n",
        "\n",
        "HINT: the range is `max - min`."
      ]
    }
  ]
}